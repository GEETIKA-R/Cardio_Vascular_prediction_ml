{
  "cells": [
    {
      "cell_type": "code",
      "execution_count": null,
      "id": "859530a9",
      "metadata": {
        "id": "859530a9"
      },
      "outputs": [],
      "source": [
        "import numpy as np\n",
        "import matplotlib.pyplot as plt\n",
        "import pandas as pd\n",
        "dataset = pd.read_csv('processed_cleveland.csv')\n",
        "X = dataset.iloc[:, :-1].values\n",
        "y = dataset.iloc[:, -1].values\n",
        "dataset.fillna(dataset['thal'].median(), inplace = True)\n",
        "dataset.fillna(dataset['ca'].median(), inplace = True)"
      ]
    },
    {
      "cell_type": "code",
      "execution_count": null,
      "id": "81e31098",
      "metadata": {
        "id": "81e31098",
        "outputId": "decb8b12-346b-4635-9268-357947148f48"
      },
      "outputs": [
        {
          "name": "stdout",
          "output_type": "stream",
          "text": [
            "     age  sex  cp  trestbps  chol  fbs  restecg  thalach  exang  oldpeak  \\\n",
            "0     63    1   1       145   233    1        2      150      0      2.3   \n",
            "1     67    1   4       160   286    0        2      108      1      1.5   \n",
            "2     67    1   4       120   229    0        2      129      1      2.6   \n",
            "3     37    1   3       130   250    0        0      187      0      3.5   \n",
            "4     41    0   2       130   204    0        2      172      0      1.4   \n",
            "..   ...  ...  ..       ...   ...  ...      ...      ...    ...      ...   \n",
            "297   57    0   4       140   241    0        0      123      1      0.2   \n",
            "298   45    1   1       110   264    0        0      132      0      1.2   \n",
            "299   68    1   4       144   193    1        0      141      0      3.4   \n",
            "301   57    0   2       130   236    0        2      174      0      0.0   \n",
            "302   38    1   3       138   175    0        0      173      0      0.0   \n",
            "\n",
            "     slope   ca  thal  num  \n",
            "0        3  0.0   6.0    0  \n",
            "1        2  3.0   3.0    2  \n",
            "2        2  2.0   7.0    1  \n",
            "3        3  0.0   3.0    0  \n",
            "4        1  0.0   3.0    0  \n",
            "..     ...  ...   ...  ...  \n",
            "297      2  0.0   7.0    1  \n",
            "298      2  0.0   7.0    1  \n",
            "299      2  2.0   7.0    2  \n",
            "301      2  1.0   3.0    1  \n",
            "302      1  3.0   3.0    0  \n",
            "\n",
            "[255 rows x 14 columns]\n"
          ]
        }
      ],
      "source": [
        "dataset.describe()\n",
        "Q1 = dataset.num.quantile(0.35);\n",
        "Q3 = dataset.num.quantile(0.65);\n",
        "Q1, Q3\n",
        "IQR = Q3 - Q1\n",
        "IQR\n",
        "lower_limit = Q1 - 1.5*IQR\n",
        "upper_limit = Q3 + 1.5*IQR\n",
        "lower_limit, upper_limit\n",
        "dataset[(dataset.num<lower_limit)|(dataset.num>upper_limit)]\n",
        "df_no_outlier = dataset[(dataset.num>lower_limit)&(dataset.num<upper_limit)]\n",
        "print(df_no_outlier)"
      ]
    },
    {
      "cell_type": "code",
      "execution_count": null,
      "id": "1b1b29fa",
      "metadata": {
        "id": "1b1b29fa",
        "outputId": "cb194f3b-653b-45ab-b63e-c15bc67f4637"
      },
      "outputs": [
        {
          "name": "stdout",
          "output_type": "stream",
          "text": [
            "     age  sex  cp  trestbps  chol  fbs  restecg  thalach  exang  oldpeak  \\\n",
            "0     63    1   1       145   233    1        2      150      0      2.3   \n",
            "2     67    1   4       120   229    0        2      129      1      2.6   \n",
            "3     37    1   3       130   250    0        0      187      0      3.5   \n",
            "4     41    0   2       130   204    0        2      172      0      1.4   \n",
            "5     56    1   2       120   236    0        0      178      0      0.8   \n",
            "..   ...  ...  ..       ...   ...  ...      ...      ...    ...      ...   \n",
            "295   41    1   2       120   157    0        0      182      0      0.0   \n",
            "297   57    0   4       140   241    0        0      123      1      0.2   \n",
            "298   45    1   1       110   264    0        0      132      0      1.2   \n",
            "301   57    0   2       130   236    0        2      174      0      0.0   \n",
            "302   38    1   3       138   175    0        0      173      0      0.0   \n",
            "\n",
            "     slope   ca  thal  num  \n",
            "0        3  0.0   6.0    0  \n",
            "2        2  2.0   7.0    1  \n",
            "3        3  0.0   3.0    0  \n",
            "4        1  0.0   3.0    0  \n",
            "5        1  0.0   3.0    0  \n",
            "..     ...  ...   ...  ...  \n",
            "295      1  0.0   3.0    0  \n",
            "297      2  0.0   7.0    1  \n",
            "298      2  0.0   7.0    1  \n",
            "301      2  1.0   3.0    1  \n",
            "302      1  3.0   3.0    0  \n",
            "\n",
            "[219 rows x 14 columns]\n"
          ]
        }
      ],
      "source": [
        "df_no_outlier.describe()\n",
        "Q1 = df_no_outlier.num.quantile(0.25)\n",
        "Q3 = df_no_outlier.num.quantile(0.75)\n",
        "Q1, Q3\n",
        "IQR = Q3 - Q1\n",
        "IQR\n",
        "lower_limit = Q1 - 1.5*IQR\n",
        "upper_limit = Q3 + 0.5*IQR\n",
        "lower_limit, upper_limit\n",
        "df_no_outlier1 = dataset[(dataset.num>lower_limit)&(dataset.num<upper_limit)]\n",
        "print(df_no_outlier1)"
      ]
    },
    {
      "cell_type": "code",
      "execution_count": null,
      "id": "5bf60dc9",
      "metadata": {
        "id": "5bf60dc9",
        "outputId": "b889ac34-f23e-4353-a691-b9a1121ad37a"
      },
      "outputs": [
        {
          "name": "stderr",
          "output_type": "stream",
          "text": [
            "\u001b[32m [ 2023-10-27 22:08:46,775 ] \u001b[0mFinished iteration #0 with objective value 0.8787878787878788. Current best value is 0.9090909090909091 \u001b[0m\n",
            "\u001b[32m [ 2023-10-27 22:08:54,522 ] \u001b[0mFinished iteration #1 with objective value 0.9090909090909091. Current best value is 0.9090909090909091 \u001b[0m\n",
            "\u001b[32m [ 2023-10-27 22:09:03,020 ] \u001b[0mFinished iteration #2 with objective value 0.9090909090909091. Current best value is 0.9090909090909091 \u001b[0m\n",
            "\u001b[32m [ 2023-10-27 22:09:11,607 ] \u001b[0mFinished iteration #3 with objective value 0.9090909090909091. Current best value is 0.9090909090909091 \u001b[0m\n",
            "\u001b[32m [ 2023-10-27 22:09:20,882 ] \u001b[0mFinished iteration #4 with objective value 0.9090909090909091. Current best value is 0.9090909090909091 \u001b[0m\n",
            "\u001b[32m [ 2023-10-27 22:09:29,052 ] \u001b[0mFinished iteration #5 with objective value 0.9090909090909091. Current best value is 0.9090909090909091 \u001b[0m\n",
            "\u001b[32m [ 2023-10-27 22:09:36,227 ] \u001b[0mFinished iteration #6 with objective value 0.9090909090909091. Current best value is 0.9090909090909091 \u001b[0m\n",
            "\u001b[32m [ 2023-10-27 22:09:44,362 ] \u001b[0mFinished iteration #7 with objective value 0.9090909090909091. Current best value is 0.9090909090909091 \u001b[0m\n",
            "\u001b[32m [ 2023-10-27 22:09:53,409 ] \u001b[0mFinished iteration #8 with objective value 0.9090909090909091. Current best value is 0.9090909090909091 \u001b[0m\n",
            "\u001b[32m [ 2023-10-27 22:09:58,666 ] \u001b[0mFinished iteration #9 with objective value 0.9090909090909091. Current best value is 0.9242424242424242 \u001b[0m\n"
          ]
        },
        {
          "name": "stdout",
          "output_type": "stream",
          "text": [
            "['age', 'sex', 'cp', 'trestbps', 'chol']\n",
            "Accuracy: 0.9242424242424242\n",
            "accuracy in percentage 92.42424242424242 %\n"
          ]
        }
      ],
      "source": [
        "import numpy as np\n",
        "from sklearn.ensemble import RandomForestClassifier\n",
        "from sklearn.metrics import accuracy_score\n",
        "from zoofs import HarrisHawkOptimization\n",
        "\n",
        "# Define your own objective function for HHO\n",
        "def objective_function(model, X_train, y_train, X_valid, y_valid):\n",
        "    model.fit(X_train, y_train)\n",
        "    y_pred = model.predict(X_valid)\n",
        "    accuracy = accuracy_score(y_valid, y_pred)\n",
        "    return accuracy\n",
        "\n",
        "# Create an instance of randomforest\n",
        "dt_model = RandomForestClassifier(n_estimators=100, random_state=0)\n",
        "\n",
        "# Create an object of HarrisHawkOptimization\n",
        "algo_object = HarrisHawkOptimization(\n",
        "    objective_function,\n",
        "    n_iteration=10,         # Number of iterations\n",
        "    population_size=50,     # Population size\n",
        "    minimize=False          # Set to True if your objective is to minimize\n",
        ")\n",
        "\n",
        "# Fit the algorithm\n",
        "algo_object.fit(dt_model, X_train, y_train, X_valid, y_valid, verbose=True)\n",
        "\n",
        "# Get the best feature list\n",
        "max_features = 5 # Set the maximum number of features you want\n",
        "best_feature_list = algo_object.best_feature_list\n",
        "limited_feature_list = best_feature_list[:max_features]\n",
        "print(limited_feature_list)\n",
        "# Train the Decision Tree model using the best selected features\n",
        "dt_model.fit(X_train.loc[:, best_feature_list], y_train)\n",
        "\n",
        "# Predict using the test dataset\n",
        "y_pred = dt_model.predict(X_valid.loc[:,best_feature_list ])\n",
        "\n",
        "# Calculate accuracy\n",
        "accuracy = accuracy_score(y_valid, y_pred)\n",
        "print(\"Accuracy:\", accuracy)\n",
        "accuracy_percent=accuracy*100\n",
        "print(\"accuracy in percentage\",accuracy_percent,\"%\")"
      ]
    }
  ],
  "metadata": {
    "kernelspec": {
      "display_name": "Python 3 (ipykernel)",
      "language": "python",
      "name": "python3"
    },
    "language_info": {
      "codemirror_mode": {
        "name": "ipython",
        "version": 3
      },
      "file_extension": ".py",
      "mimetype": "text/x-python",
      "name": "python",
      "nbconvert_exporter": "python",
      "pygments_lexer": "ipython3",
      "version": "3.10.9"
    },
    "colab": {
      "provenance": []
    }
  },
  "nbformat": 4,
  "nbformat_minor": 5
}